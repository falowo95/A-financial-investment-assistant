{
 "cells": [
  {
   "cell_type": "code",
   "execution_count": 2,
   "id": "f12f7ca2",
   "metadata": {},
   "outputs": [],
   "source": [
    "#importation of needed packages \n",
    "import numpy as np\n",
    "import matplotlib.pyplot as plt\n",
    "import pandas as pd\n",
    "import pandas_datareader as web\n",
    "import datetime as dt\n",
    "import plotly.graph_objs as go\n",
    "\n",
    "\n",
    "\n",
    "\n",
    "from sklearn.preprocessing import MinMaxScaler\n",
    "from tensorflow.keras.models import Sequential\n",
    "from tensorflow.keras.layers import Dense, Dropout, LSTM"
   ]
  },
  {
   "cell_type": "code",
   "execution_count": 3,
   "id": "e2e49c7c",
   "metadata": {},
   "outputs": [],
   "source": [
    "\n",
    "# def select_stock(choice):\n",
    "#     # choice = input(\"what stock do you want ?\").upper()\n",
    "#     cooperation = [\"AAPL\", \"FB\",\"GOOGL\"]\n",
    "#     data = None\n",
    "#     choice = choice.upper()\n",
    "#     if choice in cooperation:\n",
    "#         start_date = dt.datetime(2010, 1, 1)\n",
    "#         end_date = dt.datetime.now()\n",
    "#         data = web.DataReader(choice, 'yahoo', start_date, end_date)\n",
    "\n",
    "#     if not data.empty:\n",
    "#         return closing_prices(data,choice)\n",
    "#     else:\n",
    "#         return \"\""
   ]
  },
  {
   "cell_type": "code",
   "execution_count": 4,
   "id": "56eccf34",
   "metadata": {},
   "outputs": [],
   "source": [
    "# #data transformation pipeline\n",
    "# #loading our dataset\n",
    "# choice = 'aapl'\n",
    "\n",
    "# start_date = dt.datetime(2000, 1, 1)\n",
    "# end_date = dt.datetime.now()\n",
    "# data = web.DataReader(choice, 'yahoo', start_date, end_date)\n",
    "# data.info()\n",
    "# data = data.reset_index()"
   ]
  },
  {
   "cell_type": "code",
   "execution_count": 5,
   "id": "e8d4de88",
   "metadata": {},
   "outputs": [],
   "source": [
    "choice=\"aapl\""
   ]
  },
  {
   "cell_type": "code",
   "execution_count": 6,
   "id": "9bbe9d85",
   "metadata": {},
   "outputs": [],
   "source": [
    "def select_stock(choice):\n",
    "    # choice = input(\"what stock do you want ?\").upper()\n",
    "    cooperation = [\"AAPL\", \"FB\",\"GOOGL\",\"MSFT\",\"TSLA\"]\n",
    "    data = None\n",
    "    choice = choice.upper()\n",
    "    if choice in cooperation:\n",
    "        start_date = dt.datetime(2010, 1, 1)\n",
    "        end_date = dt.datetime.now()\n",
    "        data = web.DataReader(choice, 'yahoo', start_date, end_date)\n",
    "        data = data.reset_index()\n",
    "        \n",
    "    if not data.empty:\n",
    "        daily_percentage_change(data,choice)\n",
    "        daily_log_returns(data,choice)\n",
    "        cumulative_daily_returns(data,choice)\n",
    "\n",
    "    else:\n",
    "\n",
    "        return \"in valid stock input\"\n",
    "\n",
    "\n",
    "\n",
    "    "
   ]
  },
  {
   "cell_type": "code",
   "execution_count": null,
   "id": "437c5821",
   "metadata": {},
   "outputs": [],
   "source": []
  },
  {
   "cell_type": "code",
   "execution_count": 19,
   "id": "3a5b1208",
   "metadata": {},
   "outputs": [],
   "source": [
    "def daily_percentage_change(data,choice):\n",
    "    data['daily_pct_change'] = data['Close'].pct_change()\n",
    "\n",
    "    data['daily_pct_change'].fillna(0, inplace=True)\n",
    "    # Plot the distribution of daily percentage change"
   ]
  },
  {
   "cell_type": "code",
   "execution_count": 20,
   "id": "eb1b1b81",
   "metadata": {},
   "outputs": [],
   "source": [
    "def daily_log_returns(data,choice):\n",
    "    # Daily log returns\n",
    "    data['daily_log_returns'] = np.log(data['daily_pct_change'] + 1)"
   ]
  },
  {
   "cell_type": "code",
   "execution_count": 21,
   "id": "4068cbe1",
   "metadata": {},
   "outputs": [],
   "source": [
    "def cumulative_daily_returns(data,choice):\n",
    "    # Calculate the cumulative daily returns\n",
    "    data['cum_daily_returns'] = (1 + data['daily_pct_change']).cumprod()"
   ]
  },
  {
   "cell_type": "code",
   "execution_count": 5,
   "id": "0e248af1",
   "metadata": {},
   "outputs": [
    {
     "data": {
      "text/html": [
       "<div>\n",
       "<style scoped>\n",
       "    .dataframe tbody tr th:only-of-type {\n",
       "        vertical-align: middle;\n",
       "    }\n",
       "\n",
       "    .dataframe tbody tr th {\n",
       "        vertical-align: top;\n",
       "    }\n",
       "\n",
       "    .dataframe thead th {\n",
       "        text-align: right;\n",
       "    }\n",
       "</style>\n",
       "<table border=\"1\" class=\"dataframe\">\n",
       "  <thead>\n",
       "    <tr style=\"text-align: right;\">\n",
       "      <th></th>\n",
       "      <th>Date</th>\n",
       "      <th>High</th>\n",
       "      <th>Low</th>\n",
       "      <th>Open</th>\n",
       "      <th>Close</th>\n",
       "      <th>Volume</th>\n",
       "      <th>Adj Close</th>\n",
       "    </tr>\n",
       "  </thead>\n",
       "  <tbody>\n",
       "    <tr>\n",
       "      <th>0</th>\n",
       "      <td>2000-01-03</td>\n",
       "      <td>1.004464</td>\n",
       "      <td>0.907924</td>\n",
       "      <td>0.936384</td>\n",
       "      <td>0.999442</td>\n",
       "      <td>535796800.0</td>\n",
       "      <td>0.855797</td>\n",
       "    </tr>\n",
       "    <tr>\n",
       "      <th>1</th>\n",
       "      <td>2000-01-04</td>\n",
       "      <td>0.987723</td>\n",
       "      <td>0.903460</td>\n",
       "      <td>0.966518</td>\n",
       "      <td>0.915179</td>\n",
       "      <td>512377600.0</td>\n",
       "      <td>0.783644</td>\n",
       "    </tr>\n",
       "    <tr>\n",
       "      <th>2</th>\n",
       "      <td>2000-01-05</td>\n",
       "      <td>0.987165</td>\n",
       "      <td>0.919643</td>\n",
       "      <td>0.926339</td>\n",
       "      <td>0.928571</td>\n",
       "      <td>778321600.0</td>\n",
       "      <td>0.795112</td>\n",
       "    </tr>\n",
       "    <tr>\n",
       "      <th>3</th>\n",
       "      <td>2000-01-06</td>\n",
       "      <td>0.955357</td>\n",
       "      <td>0.848214</td>\n",
       "      <td>0.947545</td>\n",
       "      <td>0.848214</td>\n",
       "      <td>767972800.0</td>\n",
       "      <td>0.726304</td>\n",
       "    </tr>\n",
       "    <tr>\n",
       "      <th>4</th>\n",
       "      <td>2000-01-07</td>\n",
       "      <td>0.901786</td>\n",
       "      <td>0.852679</td>\n",
       "      <td>0.861607</td>\n",
       "      <td>0.888393</td>\n",
       "      <td>460734400.0</td>\n",
       "      <td>0.760708</td>\n",
       "    </tr>\n",
       "    <tr>\n",
       "      <th>...</th>\n",
       "      <td>...</td>\n",
       "      <td>...</td>\n",
       "      <td>...</td>\n",
       "      <td>...</td>\n",
       "      <td>...</td>\n",
       "      <td>...</td>\n",
       "      <td>...</td>\n",
       "    </tr>\n",
       "    <tr>\n",
       "      <th>5599</th>\n",
       "      <td>2022-04-04</td>\n",
       "      <td>178.490005</td>\n",
       "      <td>174.440002</td>\n",
       "      <td>174.570007</td>\n",
       "      <td>178.440002</td>\n",
       "      <td>76468400.0</td>\n",
       "      <td>178.440002</td>\n",
       "    </tr>\n",
       "    <tr>\n",
       "      <th>5600</th>\n",
       "      <td>2022-04-05</td>\n",
       "      <td>178.300003</td>\n",
       "      <td>174.419998</td>\n",
       "      <td>177.500000</td>\n",
       "      <td>175.059998</td>\n",
       "      <td>73401800.0</td>\n",
       "      <td>175.059998</td>\n",
       "    </tr>\n",
       "    <tr>\n",
       "      <th>5601</th>\n",
       "      <td>2022-04-06</td>\n",
       "      <td>173.630005</td>\n",
       "      <td>170.130005</td>\n",
       "      <td>172.360001</td>\n",
       "      <td>171.830002</td>\n",
       "      <td>89058800.0</td>\n",
       "      <td>171.830002</td>\n",
       "    </tr>\n",
       "    <tr>\n",
       "      <th>5602</th>\n",
       "      <td>2022-04-07</td>\n",
       "      <td>173.360001</td>\n",
       "      <td>169.850006</td>\n",
       "      <td>171.160004</td>\n",
       "      <td>172.139999</td>\n",
       "      <td>77594700.0</td>\n",
       "      <td>172.139999</td>\n",
       "    </tr>\n",
       "    <tr>\n",
       "      <th>5603</th>\n",
       "      <td>2022-04-08</td>\n",
       "      <td>171.779999</td>\n",
       "      <td>169.199997</td>\n",
       "      <td>171.779999</td>\n",
       "      <td>170.089996</td>\n",
       "      <td>76515900.0</td>\n",
       "      <td>170.089996</td>\n",
       "    </tr>\n",
       "  </tbody>\n",
       "</table>\n",
       "<p>5604 rows × 7 columns</p>\n",
       "</div>"
      ],
      "text/plain": [
       "           Date        High         Low        Open       Close       Volume  \\\n",
       "0    2000-01-03    1.004464    0.907924    0.936384    0.999442  535796800.0   \n",
       "1    2000-01-04    0.987723    0.903460    0.966518    0.915179  512377600.0   \n",
       "2    2000-01-05    0.987165    0.919643    0.926339    0.928571  778321600.0   \n",
       "3    2000-01-06    0.955357    0.848214    0.947545    0.848214  767972800.0   \n",
       "4    2000-01-07    0.901786    0.852679    0.861607    0.888393  460734400.0   \n",
       "...         ...         ...         ...         ...         ...          ...   \n",
       "5599 2022-04-04  178.490005  174.440002  174.570007  178.440002   76468400.0   \n",
       "5600 2022-04-05  178.300003  174.419998  177.500000  175.059998   73401800.0   \n",
       "5601 2022-04-06  173.630005  170.130005  172.360001  171.830002   89058800.0   \n",
       "5602 2022-04-07  173.360001  169.850006  171.160004  172.139999   77594700.0   \n",
       "5603 2022-04-08  171.779999  169.199997  171.779999  170.089996   76515900.0   \n",
       "\n",
       "       Adj Close  \n",
       "0       0.855797  \n",
       "1       0.783644  \n",
       "2       0.795112  \n",
       "3       0.726304  \n",
       "4       0.760708  \n",
       "...          ...  \n",
       "5599  178.440002  \n",
       "5600  175.059998  \n",
       "5601  171.830002  \n",
       "5602  172.139999  \n",
       "5603  170.089996  \n",
       "\n",
       "[5604 rows x 7 columns]"
      ]
     },
     "execution_count": 5,
     "metadata": {},
     "output_type": "execute_result"
    }
   ],
   "source": [
    "data"
   ]
  },
  {
   "cell_type": "code",
   "execution_count": null,
   "id": "b8081422",
   "metadata": {},
   "outputs": [],
   "source": []
  },
  {
   "cell_type": "code",
   "execution_count": 6,
   "id": "9adee16f",
   "metadata": {},
   "outputs": [],
   "source": [
    "# x and y given as array_like objects\n",
    "import plotly.express as px"
   ]
  },
  {
   "cell_type": "code",
   "execution_count": 6,
   "id": "dd2e6647",
   "metadata": {},
   "outputs": [],
   "source": [
    "# fig =  px.scatter(x = data.Date,y = data.Close)   \n",
    "# fig.show()"
   ]
  },
  {
   "cell_type": "markdown",
   "id": "f8810bd4",
   "metadata": {},
   "source": [
    "# Closing prices"
   ]
  },
  {
   "cell_type": "code",
   "execution_count": 24,
   "id": "e9af9cd5",
   "metadata": {},
   "outputs": [
    {
     "data": {
      "image/png": "[encoded data removed]",
      "text/plain": [
       "<Figure size 1080x504 with 1 Axes>"
      ]
     },
     "metadata": {
      "needs_background": "light"
     },
     "output_type": "display_data"
    }
   ],
   "source": [
    "\n",
    "\n",
    "# #view closing price history of selected stock on selected end date \n",
    "data.Close.plot(grid=True,figsize = (15,7))\n",
    "plt.title('Close price history')\n",
    "plt.xlabel('Date',fontsize = 12)\n",
    "plt.ylabel(f'Closing price of {choice} stocks in USD ($)',fontsize = 12)\n",
    "plt.legend(loc=\"upper left\",fontsize = 12)\n",
    "plt.show()\n",
    "\n",
    "\n",
    "\n",
    "\n",
    "\n"
   ]
  },
  {
   "cell_type": "markdown",
   "id": "ddf72633",
   "metadata": {},
   "source": [
    "# Volatility"
   ]
  },
  {
   "cell_type": "code",
   "execution_count": 25,
   "id": "41cdf404",
   "metadata": {},
   "outputs": [
    {
     "data": {
      "text/plain": [
       "<matplotlib.legend.Legend at 0x28fac9ee0>"
      ]
     },
     "execution_count": 25,
     "metadata": {},
     "output_type": "execute_result"
    },
    {
     "data": {
      "image/png": "[encoded data removed]",
      "text/plain": [
       "<Figure size 1080x504 with 1 Axes>"
      ]
     },
     "metadata": {
      "needs_background": "light"
     },
     "output_type": "display_data"
    }
   ],
   "source": [
    "# Percentage increase in stock value\n",
    "# A percentage increase in stock value is the change in stock comparing that to the previous day. \n",
    "# The bigger the value either positive or negative the volatile the stock is\n",
    "#Volatility\n",
    "# def volatility_info(data):\n",
    "data['returns'] = (data['Close']/data['Close'].shift(1)) -1\n",
    "data['returns'].hist(bins = 100, label = f'{choice}', alpha = 0.5, figsize = (15,7))\n",
    "plt.legend(loc=\"upper left\",fontsize = 12)\n",
    "    "
   ]
  },
  {
   "cell_type": "markdown",
   "id": "2c3b88bf",
   "metadata": {},
   "source": [
    "# Returns"
   ]
  },
  {
   "cell_type": "code",
   "execution_count": 26,
   "id": "471a4c22",
   "metadata": {},
   "outputs": [],
   "source": [
    "# Returns\n",
    "# The simple daily percentage change doesn't \n",
    "# take into account dividends and other factors and \n",
    "# represents the amount of percentage change in the value of a stock \n",
    "# over a single day of trading. You will find that the daily percentage change is\n",
    "# easily calculated, as there is a pct_change() function included in the Pandas package to make your life easier:\n",
    "# Assign `Adj Close` to `daily_close`\n",
    "daily_close = data.Close\n",
    "\n",
    "# Daily returns\n",
    "daily_pct_change = daily_close.pct_change()\n",
    "\n",
    "# Replace NA values with 0\n",
    "daily_pct_change.fillna(0, inplace=True)"
   ]
  },
  {
   "cell_type": "markdown",
   "id": "7b5ae937",
   "metadata": {},
   "source": [
    "# Daily log returns"
   ]
  },
  {
   "cell_type": "code",
   "execution_count": 27,
   "id": "f19145fa",
   "metadata": {},
   "outputs": [
    {
     "data": {
      "image/png": "[encoded data removed]",
      "text/plain": [
       "<Figure size 1080x504 with 1 Axes>"
      ]
     },
     "metadata": {
      "needs_background": "light"
     },
     "output_type": "display_data"
    }
   ],
   "source": [
    "\n",
    "# Daily log returns\n",
    "daily_log_returns = np.log(daily_close.pct_change()+1)\n",
    "# visualize daily log returns\n",
    "daily_log_returns.hist(bins=100,label = f'{choice}',figsize = (15,7))\n",
    "plt.legend(loc=\"upper left\",fontsize = 12)\n",
    "plt.show()\n",
    "\n",
    "# Note that you calculate the log returns to get a better insight into the growth of your returns over time."
   ]
  },
  {
   "cell_type": "markdown",
   "id": "1084cc19",
   "metadata": {},
   "source": [
    "##  Daily percentage change\n",
    "\n"
   ]
  },
  {
   "cell_type": "code",
   "execution_count": 28,
   "id": "90ac6698",
   "metadata": {},
   "outputs": [
    {
     "data": {
      "image/png": "[encoded data removed]",
      "text/plain": [
       "<Figure size 1080x504 with 1 Axes>"
      ]
     },
     "metadata": {
      "needs_background": "light"
     },
     "output_type": "display_data"
    }
   ],
   "source": [
    "#Replace NA values with 0\n",
    "daily_pct_change.fillna(0, inplace=True)\n",
    "\n",
    "#Inspect daily returns\n",
    "# print(daily_pct_change)\n",
    "\n",
    "# Plot the distribution of `daily_pct_c`\n",
    "daily_pct_change.hist(bins=50,label = f'{choice}',figsize = (15,7))\n",
    "# Show the plot\n",
    "plt.legend(loc=\"upper left\",fontsize = 12)\n",
    "plt.show()\n"
   ]
  },
  {
   "cell_type": "markdown",
   "id": "dd9f6267",
   "metadata": {},
   "source": [
    "# cumulative daily returns"
   ]
  },
  {
   "cell_type": "code",
   "execution_count": 29,
   "id": "8dff3f4e",
   "metadata": {},
   "outputs": [
    {
     "data": {
      "image/png": "[encoded data removed]",
      "text/plain": [
       "<Figure size 1080x504 with 1 Axes>"
      ]
     },
     "metadata": {
      "needs_background": "light"
     },
     "output_type": "display_data"
    }
   ],
   "source": [
    "# Calculate the cumulative daily returns\n",
    "cum_daily_return = (1 + daily_pct_change).cumprod()\n",
    "\n",
    "# Print `cum_daily_return`\n",
    "# print(cum_daily_return)\n",
    "\n",
    "\n",
    "# Plot the cumulative daily returns\n",
    "cum_daily_return.plot(figsize = (15,7),label = f'{choice}')\n",
    "\n",
    "# Show the plot\n",
    "plt.legend(loc=\"upper left\",fontsize = 12)\n",
    "plt.show()"
   ]
  },
  {
   "cell_type": "code",
   "execution_count": null,
   "id": "48d09f50",
   "metadata": {},
   "outputs": [],
   "source": []
  },
  {
   "cell_type": "code",
   "execution_count": null,
   "id": "589f8255",
   "metadata": {},
   "outputs": [],
   "source": []
  },
  {
   "cell_type": "code",
   "execution_count": null,
   "id": "455f16b2",
   "metadata": {},
   "outputs": [],
   "source": []
  },
  {
   "cell_type": "code",
   "execution_count": 54,
   "id": "daccda66",
   "metadata": {},
   "outputs": [],
   "source": [
    "start_date = dt.datetime(2010, 1, 1)\n",
    "end_date = dt.datetime.now()\n",
    "choice = \"aapl\""
   ]
  },
  {
   "cell_type": "code",
   "execution_count": 64,
   "id": "838de5a0",
   "metadata": {},
   "outputs": [],
   "source": [
    "\n",
    "def import_data(choice,start_date,end_date):\n",
    "    \n",
    "    cooperation = [\"AAPL\", \"FB\",\"GOOGL\"]\n",
    "    data = None\n",
    "    choice = choice.upper()\n",
    "    if choice in cooperation:\n",
    "#         start_date = dt.datetime(2010, 1, 1)\n",
    "#         end_date = dt.datetime.now()\n",
    "        data = web.DataReader(choice, 'yahoo', start_date, end_date)\n",
    "        data.to_csv\n",
    "    if not data.empty:\n",
    "        okay_now.closing_prices(data,choice)\n",
    "        okay_now.volatility_info(data,choice)\n",
    "        okay_now.returns(data)\n",
    "        okay_now.cumulative_daily_returns(daily_pct_change)\n",
    "        okay_now.daily_log_returns(daily_close)\n",
    "        \n",
    "    else:\n",
    "        return \"\"\n",
    "    "
   ]
  },
  {
   "cell_type": "code",
   "execution_count": 67,
   "id": "aae3c8d9",
   "metadata": {},
   "outputs": [
    {
     "ename": "SyntaxError",
     "evalue": "invalid syntax (150970659.py, line 36)",
     "output_type": "error",
     "traceback": [
      "\u001b[0;36m  Input \u001b[0;32mIn [67]\u001b[0;36m\u001b[0m\n\u001b[0;31m    def daily_log_returns(returns.daily_close):\u001b[0m\n\u001b[0m                                 ^\u001b[0m\n\u001b[0;31mSyntaxError\u001b[0m\u001b[0;31m:\u001b[0m invalid syntax\n"
     ]
    }
   ],
   "source": [
    "\n",
    "\n",
    "    def closing_prices,data,choice):\n",
    "        #view closing price history of selected stock on selected end date\n",
    "        data['Close'].plot(grid=True,figsize = (15,7))\n",
    "        plt.title('Close price history')\n",
    "        plt.xlabel('Date',fontsize = 12)\n",
    "        plt.ylabel(f'Close price of {choice} in USD ($)',fontsize = 12)\n",
    "        plt.legend(loc=\"upper left\")\n",
    "\n",
    "        img_info = f\"./static/{choice}.png\"\n",
    "\n",
    "        img_location = f\"{choice}.png\"\n",
    "        plt.savefig(img_info,dpi=200)\n",
    "        plt.show()\n",
    "        plt.close()\n",
    "        \n",
    "    def volatility_info(data,choice):\n",
    "        data['returns'] = (data['Close']/data['Close'].shift(1)) -1\n",
    "        data['returns'].hist(bins = 100, label = f'{choice}', alpha = 0.5, figsize = (15,7))\n",
    "        plt.legend(loc=\"upper left\",fontsize = 12)\n",
    "\n",
    "        img_info = f\"./volatility_info/{choice}volatility.png\"\n",
    "        img_location = f\"{choice}volatility.png\"\n",
    "\n",
    "        plt.savefig(img_info, dpi=200)\n",
    "        plt.show()\n",
    "        \n",
    "    def returns(data):\n",
    "        daily_close = data.Close\n",
    "        # Daily returns\n",
    "        daily_pct_change = daily_close.pct_change()\n",
    "        # Replace NA values with 0\n",
    "        daily_pct_change.fillna(0, inplace=True)\n",
    "\n",
    "    def daily_log_returns(returns.daily_close):\n",
    "        # Daily log returns\n",
    "        daily_log_returns = np.log(daily_close.pct_change()+1)\n",
    "        # visualize daily log returns\n",
    "        daily_log_returns.hist(bins=100,label = f'{choice}',figsize = (15,7))\n",
    "        plt.legend(loc=\"upper left\",fontsize = 12)\n",
    "        plt.show()\n",
    "        # Note that you calculate the log returns to get a better insight into the growth of your returns over time.\n",
    "    def daily_percentage_change(returns.daily_pct_change):\n",
    "\n",
    "        #Replace NA values with 0\n",
    "        daily_pct_change.fillna(0, inplace=True)\n",
    "\n",
    "        #Inspect daily returns\n",
    "        # print(daily_pct_change)\n",
    "\n",
    "        # Plot the distribution of `daily_pct_c`\n",
    "        daily_pct_change.hist(bins=50,label = f'{choice}',figsize = (15,7))\n",
    "        # Show the plot\n",
    "        plt.legend(loc=\"upper left\",fontsize = 12)\n",
    "        plt.show()\n",
    "\n",
    "\n",
    "    def cumulative_daily_returns(returns.daily_pct_change):\n",
    "        # Calculate the cumulative daily returns\n",
    "        cum_daily_return = (1 + daily_pct_change).cumprod()\n",
    "\n",
    "        # Print `cum_daily_return`\n",
    "        # print(cum_daily_return)\n",
    "\n",
    "        # Plot the cumulative daily returns\n",
    "        cum_daily_return.plot(figsize=(15, 7), label=f'{choice}')\n",
    "\n",
    "        # Show the plot\n",
    "        plt.legend(loc=\"upper left\", fontsize=12)\n",
    "        plt.show()\n"
   ]
  },
  {
   "cell_type": "code",
   "execution_count": 66,
   "id": "34d2918d",
   "metadata": {},
   "outputs": [
    {
     "data": {
      "image/png": "[encoded data removed]",
      "text/plain": [
       "<Figure size 1080x504 with 1 Axes>"
      ]
     },
     "metadata": {
      "needs_background": "light"
     },
     "output_type": "display_data"
    },
    {
     "data": {
      "image/png": "[encoded data removed]",
      "text/plain": [
       "<Figure size 1080x504 with 1 Axes>"
      ]
     },
     "metadata": {
      "needs_background": "light"
     },
     "output_type": "display_data"
    },
    {
     "ename": "AttributeError",
     "evalue": "'function' object has no attribute 'cumulative_daily_returns'",
     "output_type": "error",
     "traceback": [
      "\u001b[0;31m---------------------------------------------------------------------------\u001b[0m",
      "\u001b[0;31mAttributeError\u001b[0m                            Traceback (most recent call last)",
      "Input \u001b[0;32mIn [66]\u001b[0m, in \u001b[0;36m<module>\u001b[0;34m\u001b[0m\n\u001b[0;32m----> 1\u001b[0m \u001b[43mimport_data\u001b[49m\u001b[43m(\u001b[49m\u001b[43mchoice\u001b[49m\u001b[43m,\u001b[49m\u001b[43mstart_date\u001b[49m\u001b[43m,\u001b[49m\u001b[43mend_date\u001b[49m\u001b[43m)\u001b[49m\n",
      "Input \u001b[0;32mIn [64]\u001b[0m, in \u001b[0;36mimport_data\u001b[0;34m(choice, start_date, end_date)\u001b[0m\n\u001b[1;32m     12\u001b[0m     okay_now\u001b[38;5;241m.\u001b[39mvolatility_info(data,choice)\n\u001b[1;32m     13\u001b[0m     okay_now\u001b[38;5;241m.\u001b[39mreturns(data)\n\u001b[0;32m---> 14\u001b[0m     \u001b[43mokay_now\u001b[49m\u001b[38;5;241;43m.\u001b[39;49m\u001b[43mdaily_log_returns\u001b[49m\u001b[38;5;241;43m.\u001b[39;49m\u001b[43mcumulative_daily_returns\u001b[49m(daily_pct_change)\n\u001b[1;32m     15\u001b[0m     okay_now\u001b[38;5;241m.\u001b[39mdaily_log_returns(daily_close)\n\u001b[1;32m     17\u001b[0m \u001b[38;5;28;01melse\u001b[39;00m:\n",
      "\u001b[0;31mAttributeError\u001b[0m: 'function' object has no attribute 'cumulative_daily_returns'"
     ]
    }
   ],
   "source": [
    "import_data(choice,start_date,end_date)"
   ]
  },
  {
   "cell_type": "code",
   "execution_count": null,
   "id": "1a39f1dd",
   "metadata": {},
   "outputs": [],
   "source": []
  },
  {
   "cell_type": "code",
   "execution_count": null,
   "id": "6aa5a489",
   "metadata": {},
   "outputs": [],
   "source": []
  },
  {
   "cell_type": "code",
   "execution_count": null,
   "id": "8949a1b8",
   "metadata": {},
   "outputs": [],
   "source": []
  },
  {
   "cell_type": "code",
   "execution_count": null,
   "id": "1d5aa5a9",
   "metadata": {},
   "outputs": [],
   "source": []
  },
  {
   "cell_type": "code",
   "execution_count": null,
   "id": "e9abf3f4",
   "metadata": {},
   "outputs": [],
   "source": []
  },
  {
   "cell_type": "code",
   "execution_count": null,
   "id": "699653bf",
   "metadata": {},
   "outputs": [],
   "source": []
  },
  {
   "cell_type": "code",
   "execution_count": null,
   "id": "63f8aa42",
   "metadata": {},
   "outputs": [],
   "source": []
  },
  {
   "cell_type": "code",
   "execution_count": 36,
   "id": "dd46eb27",
   "metadata": {},
   "outputs": [],
   "source": [
    "def volatility_info(data,choice):\n",
    "    data['returns'] = (data['Close']/data['Close'].shift(1)) -1\n",
    "    data['returns'].hist(bins = 100, label = f'{choice}', alpha = 0.5, figsize = (15,7))\n",
    "    plt.legend(loc=\"upper left\",fontsize = 12)\n",
    "\n",
    "    img_info = f\"./volatility_info/{choice}volatility.png\"\n",
    "    img_location = f\"{choice}volatility.png\"\n",
    "\n",
    "    plt.savefig(img_info, dpi=1200)\n",
    "    plt.close()\n",
    "    return img_location"
   ]
  },
  {
   "cell_type": "code",
   "execution_count": 37,
   "id": "30465755",
   "metadata": {},
   "outputs": [
    {
     "data": {
      "text/plain": [
       "'aaplvolatility.png'"
      ]
     },
     "execution_count": 37,
     "metadata": {},
     "output_type": "execute_result"
    }
   ],
   "source": [
    "volatility_info(data,choice)"
   ]
  },
  {
   "cell_type": "code",
   "execution_count": null,
   "id": "229f0954",
   "metadata": {},
   "outputs": [],
   "source": []
  },
  {
   "cell_type": "code",
   "execution_count": null,
   "id": "c8fba060",
   "metadata": {},
   "outputs": [],
   "source": []
  },
  {
   "cell_type": "code",
   "execution_count": null,
   "id": "83af08af",
   "metadata": {},
   "outputs": [],
   "source": []
  },
  {
   "cell_type": "code",
   "execution_count": null,
   "id": "eeaeaf30",
   "metadata": {},
   "outputs": [],
   "source": []
  },
  {
   "cell_type": "code",
   "execution_count": null,
   "id": "130add35",
   "metadata": {},
   "outputs": [],
   "source": []
  },
  {
   "cell_type": "code",
   "execution_count": null,
   "id": "25da1c04",
   "metadata": {},
   "outputs": [],
   "source": []
  },
  {
   "cell_type": "code",
   "execution_count": null,
   "id": "b68d570d",
   "metadata": {},
   "outputs": [],
   "source": []
  },
  {
   "cell_type": "code",
   "execution_count": null,
   "id": "550b741e",
   "metadata": {},
   "outputs": [],
   "source": []
  },
  {
   "cell_type": "code",
   "execution_count": null,
   "id": "8b9e7fcf",
   "metadata": {},
   "outputs": [],
   "source": []
  },
  {
   "cell_type": "code",
   "execution_count": 49,
   "id": "555d1acc",
   "metadata": {},
   "outputs": [],
   "source": [
    "#BUILDING OUR MODEL \n",
    "#scaling our data\n",
    "scaler = MinMaxScaler(feature_range=(0,1))\n",
    "scaled_DATA = scaler.fit_transform(data.Close.values.reshape(-1,1))\n",
    "\n",
    "\n",
    "#here we define how many days you want to look into the past to predict the next day\n",
    "prediction_days= 30\n",
    "\n",
    "#here we are preparing our training data by creating a structure we will store it in\n",
    "#empty lists \n",
    "\n",
    "x_train = []\n",
    "y_train = []\n",
    "\n",
    "\n",
    "\n",
    "#here we are predicting the closing price for the next day \n",
    "#start counting from the sixtieth index and count up until the last index\n",
    "for x in range (prediction_days, len(scaled_DATA)):\n",
    "    #here we add value to the xtrain after each iteration \n",
    "    x_train.append(scaled_DATA[x-prediction_days:x,0])\n",
    "    y_train.append(scaled_DATA[x,0])\n"
   ]
  },
  {
   "cell_type": "code",
   "execution_count": 40,
   "id": "cd48501c",
   "metadata": {},
   "outputs": [],
   "source": [
    "#convert them into numpy arrays\n",
    "x_train,y_train = np.array(x_train), np.array(y_train)\n",
    "\n",
    "#we reshape x_train so it works with the neural network buy adding an additional dimension \n",
    "x_train = np.reshape(x_train,(x_train.shape[0],x_train.shape[1],1))"
   ]
  },
  {
   "cell_type": "code",
   "execution_count": 41,
   "id": "c7766e26",
   "metadata": {},
   "outputs": [
    {
     "name": "stdout",
     "output_type": "stream",
     "text": [
      "Metal device set to: Apple M1 Pro\n"
     ]
    },
    {
     "name": "stderr",
     "output_type": "stream",
     "text": [
      "2022-03-21 03:13:56.431462: I tensorflow/core/common_runtime/pluggable_device/pluggable_device_factory.cc:305] Could not identify NUMA node of platform GPU ID 0, defaulting to 0. Your kernel may not have been built with NUMA support.\n",
      "2022-03-21 03:13:56.431947: I tensorflow/core/common_runtime/pluggable_device/pluggable_device_factory.cc:271] Created TensorFlow device (/job:localhost/replica:0/task:0/device:GPU:0 with 0 MB memory) -> physical PluggableDevice (device: 0, name: METAL, pci bus id: <undefined>)\n"
     ]
    },
    {
     "name": "stdout",
     "output_type": "stream",
     "text": [
      "Epoch 1/20\n"
     ]
    },
    {
     "name": "stderr",
     "output_type": "stream",
     "text": [
      "2022-03-21 03:13:56.786276: W tensorflow/core/platform/profile_utils/cpu_utils.cc:128] Failed to get CPU frequency: 0 Hz\n",
      "2022-03-21 03:13:57.693601: I tensorflow/core/grappler/optimizers/custom_graph_optimizer_registry.cc:113] Plugin optimizer for device_type GPU is enabled.\n",
      "2022-03-21 03:13:57.998613: I tensorflow/core/grappler/optimizers/custom_graph_optimizer_registry.cc:113] Plugin optimizer for device_type GPU is enabled.\n",
      "2022-03-21 03:13:58.096200: I tensorflow/core/grappler/optimizers/custom_graph_optimizer_registry.cc:113] Plugin optimizer for device_type GPU is enabled.\n",
      "2022-03-21 03:13:58.153166: I tensorflow/core/grappler/optimizers/custom_graph_optimizer_registry.cc:113] Plugin optimizer for device_type GPU is enabled.\n",
      "2022-03-21 03:13:58.251307: I tensorflow/core/grappler/optimizers/custom_graph_optimizer_registry.cc:113] Plugin optimizer for device_type GPU is enabled.\n",
      "2022-03-21 03:13:58.387731: I tensorflow/core/grappler/optimizers/custom_graph_optimizer_registry.cc:113] Plugin optimizer for device_type GPU is enabled.\n"
     ]
    },
    {
     "name": "stdout",
     "output_type": "stream",
     "text": [
      " 3/59 [>.............................] - ETA: 1s - loss: 0.2586  "
     ]
    },
    {
     "name": "stderr",
     "output_type": "stream",
     "text": [
      "2022-03-21 03:13:58.478412: I tensorflow/core/grappler/optimizers/custom_graph_optimizer_registry.cc:113] Plugin optimizer for device_type GPU is enabled.\n"
     ]
    },
    {
     "name": "stdout",
     "output_type": "stream",
     "text": [
      "59/59 [==============================] - 4s 32ms/step - loss: 0.0261\n",
      "Epoch 2/20\n",
      "59/59 [==============================] - 2s 27ms/step - loss: 0.0015\n",
      "Epoch 3/20\n",
      "59/59 [==============================] - 2s 27ms/step - loss: 0.0011\n",
      "Epoch 4/20\n",
      "59/59 [==============================] - 2s 27ms/step - loss: 0.0011\n",
      "Epoch 5/20\n",
      "59/59 [==============================] - 2s 27ms/step - loss: 0.0011\n",
      "Epoch 6/20\n",
      "59/59 [==============================] - 2s 27ms/step - loss: 0.0011\n",
      "Epoch 7/20\n",
      "59/59 [==============================] - 2s 27ms/step - loss: 9.0688e-04\n",
      "Epoch 8/20\n",
      "59/59 [==============================] - 2s 28ms/step - loss: 8.6424e-04\n",
      "Epoch 9/20\n",
      "59/59 [==============================] - 2s 27ms/step - loss: 9.5977e-04\n",
      "Epoch 10/20\n",
      "59/59 [==============================] - 2s 27ms/step - loss: 0.0011\n",
      "Epoch 11/20\n",
      "59/59 [==============================] - 2s 28ms/step - loss: 8.5329e-04\n",
      "Epoch 12/20\n",
      "59/59 [==============================] - 2s 28ms/step - loss: 8.6800e-04\n",
      "Epoch 13/20\n",
      "59/59 [==============================] - 2s 29ms/step - loss: 9.4371e-04\n",
      "Epoch 14/20\n",
      "59/59 [==============================] - 2s 29ms/step - loss: 8.0929e-04\n",
      "Epoch 15/20\n",
      "59/59 [==============================] - 2s 28ms/step - loss: 8.4232e-04\n",
      "Epoch 16/20\n",
      "59/59 [==============================] - 2s 29ms/step - loss: 8.4868e-04\n",
      "Epoch 17/20\n",
      "59/59 [==============================] - 2s 28ms/step - loss: 9.4681e-04\n",
      "Epoch 18/20\n",
      "59/59 [==============================] - 2s 28ms/step - loss: 9.0497e-04\n",
      "Epoch 19/20\n",
      "59/59 [==============================] - 2s 28ms/step - loss: 8.5345e-04\n",
      "Epoch 20/20\n",
      "59/59 [==============================] - 2s 28ms/step - loss: 7.0637e-04\n"
     ]
    },
    {
     "data": {
      "text/plain": [
       "<keras.callbacks.History at 0x297369130>"
      ]
     },
     "execution_count": 41,
     "metadata": {},
     "output_type": "execute_result"
    }
   ],
   "source": [
    "model = Sequential()\n",
    "model.add(LSTM(units=50,return_sequences=True,input_shape=(x_train.shape[1],1)))\n",
    "model.add(Dropout(0.2))\n",
    "model.add(LSTM(units=50,return_sequences=True))\n",
    "model.add(Dropout(0.2))\n",
    "model.add(LSTM(units=50))\n",
    "model.add(Dropout(0.2))\n",
    "model.add(Dense(units = 1)) #predicting the next closing price \n",
    "\n",
    "#epochs basically the number of times the model will see the data\n",
    "#batch size meaning the model will see 32 units at once \n",
    "model.compile(optimizer= 'adam', loss = 'mean_squared_error')\n",
    "model.fit(x_train,y_train, epochs=20, batch_size=32)"
   ]
  },
  {
   "cell_type": "code",
   "execution_count": 42,
   "id": "56284173",
   "metadata": {},
   "outputs": [],
   "source": [
    "#now we will see how well the model will perfom on past data data we already have \n",
    "#testing the model accuracy on existing data\n",
    "\n",
    "\n",
    "test_start_date=dt.datetime(2020, 1, 1)\n",
    "test_end_date=dt.datetime.now()\n",
    "test_data = web.DataReader(choice, 'yahoo', test_start_date, test_end_date)\n",
    "\n",
    "\n",
    "real_prices = test_data['Close'].values\n",
    "\n",
    "#data containing both the training data and the test data\n",
    "total_dataset = pd.concat((data.Close, test_data.Close),axis= 0)\n",
    "\n",
    "model_inputs = total_dataset[len(total_dataset) - len(test_data)- prediction_days:].values \n",
    "\n",
    "#we now have to reshape the model inputs from the new dataframe\n",
    "\n",
    "model_inputs = model_inputs.reshape(-1,1)\n",
    "\n",
    "\n",
    "#now we have to scale it down with the existing scaler\n",
    "model_inputs = scaler.transform(model_inputs)\n",
    "\n"
   ]
  },
  {
   "cell_type": "code",
   "execution_count": 43,
   "id": "b54162bc",
   "metadata": {},
   "outputs": [
    {
     "name": "stderr",
     "output_type": "stream",
     "text": [
      "2022-03-21 03:14:36.143408: I tensorflow/core/grappler/optimizers/custom_graph_optimizer_registry.cc:113] Plugin optimizer for device_type GPU is enabled.\n",
      "2022-03-21 03:14:36.238253: I tensorflow/core/grappler/optimizers/custom_graph_optimizer_registry.cc:113] Plugin optimizer for device_type GPU is enabled.\n",
      "2022-03-21 03:14:36.289707: I tensorflow/core/grappler/optimizers/custom_graph_optimizer_registry.cc:113] Plugin optimizer for device_type GPU is enabled.\n",
      "2022-03-21 03:14:36.341790: I tensorflow/core/grappler/optimizers/custom_graph_optimizer_registry.cc:113] Plugin optimizer for device_type GPU is enabled.\n"
     ]
    }
   ],
   "source": [
    "#now we will predict based on the data we have not seen before (test data)\n",
    "x_test = []\n",
    "for x in range (prediction_days,len(model_inputs)):\n",
    "    x_test.append(model_inputs[x-prediction_days:x, 0])\n",
    "\n",
    "x_test = np.array(x_test)\n",
    "x_test = np.reshape(x_test,(x_test.shape[0], x_test.shape[1],1))\n",
    "\n",
    "\n",
    "predicted_prices = model.predict(x_test)\n",
    "predicted_prices = scaler.inverse_transform(predicted_prices)\n"
   ]
  },
  {
   "cell_type": "code",
   "execution_count": 47,
   "id": "7fa9a3d1",
   "metadata": {},
   "outputs": [
    {
     "data": {
      "image/png": "[encoded data removed]",
      "text/plain": [
       "<Figure size 432x288 with 1 Axes>"
      ]
     },
     "metadata": {
      "needs_background": "light"
     },
     "output_type": "display_data"
    }
   ],
   "source": [
    "#Plotting the test predictions\n",
    "plt.plot(real_prices,color = 'black', label = f\"Actual {choice} prices\")\n",
    "plt.plot(predicted_prices, color = 'green', label = f\"predicted {choice} prices\")\n",
    "plt.title(f'{choice} share price')\n",
    "plt.xlabel(\"time\")\n",
    "plt.ylabel(f\"{choice} share price\")\n",
    "plt.legend()\n",
    "plt.show()"
   ]
  },
  {
   "cell_type": "code",
   "execution_count": 47,
   "id": "5146e6b1",
   "metadata": {},
   "outputs": [],
   "source": [
    "# \"#getting the root mean squared error \n",
    "# rmse = np.sqrt(np.mean(predicted_prices - y_test)**2)\n",
    "# rmse\""
   ]
  },
  {
   "cell_type": "code",
   "execution_count": null,
   "id": "bac2fcb8",
   "metadata": {},
   "outputs": [],
   "source": []
  }
 ],
 "metadata": {
  "kernelspec": {
   "display_name": "Python 3 (ipykernel)",
   "language": "python",
   "name": "python3"
  },
  "language_info": {
   "codemirror_mode": {
    "name": "ipython",
    "version": 3
   },
   "file_extension": ".py",
   "mimetype": "text/x-python",
   "name": "python",
   "nbconvert_exporter": "python",
   "pygments_lexer": "ipython3",
   "version": "3.9.7"
  }
 },
 "nbformat": 4,
 "nbformat_minor": 5
}
