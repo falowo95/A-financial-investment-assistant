{
 "cells": [
  {
   "cell_type": "code",
   "execution_count": 153,
   "id": "f12f7ca2",
   "metadata": {},
   "outputs": [],
   "source": [
    "#importation of needed packages \n",
    "import numpy as np\n",
    "import matplotlib.pyplot as plt\n",
    "import pandas as pd\n",
    "import pandas_datareader as web\n",
    "import datetime as dt\n",
    "import streamlit as st\n",
    "\n",
    "\n",
    "\n",
    "from sklearn.preprocessing import MinMaxScaler\n",
    "from tensorflow.keras.models import Sequential\n",
    "from tensorflow.keras.layers import Dense, Dropout, LSTM"
   ]
  },
  {
   "cell_type": "code",
   "execution_count": 154,
   "id": "67d0e74a",
   "metadata": {},
   "outputs": [],
   "source": [
    "def closing_prices(data,choice):\n",
    "    #view closing price history of selected stock on selected end date\n",
    "    data['Close'].plot(grid=True,figsize=(8,6))\n",
    "    plt.title('Close price history')\n",
    "    plt.xlabel('Date',fontsize = 12)\n",
    "    plt.ylabel(f'Close price of {choice} in USD ($)',fontsize = 12)\n",
    "    plt.legend(loc=\"upper left\")\n",
    "\n",
    "\n",
    "    img_info = f\"./static/{choice}.png\"\n",
    "\n",
    "    img_location = f\"{choice}.png\"\n",
    "    plt.savefig(img_info,dpi=1200)\n",
    "    plt.close()\n",
    "    return img_location"
   ]
  },
  {
   "cell_type": "code",
   "execution_count": 155,
   "id": "ce2587e6",
   "metadata": {},
   "outputs": [],
   "source": [
    "def select_stock(choice):\n",
    "    # choice = input(\"what stock do you want ?\").upper()\n",
    "    cooperation = [\"AAPL\", \"FB\",\"GOOGL\"]\n",
    "    data = None\n",
    "    choice = choice.upper()\n",
    "    if choice in cooperation:\n",
    "        start_date = dt.datetime(2010, 1, 1)\n",
    "        end_date = dt.datetime(2022, 2, 27)\n",
    "        data = web.DataReader(choice, 'yahoo', start_date, end_date)\n",
    "        data = data.reset_index()\n",
    "    if not data.empty:\n",
    "        return closing_prices(data,choice)\n",
    "    else:\n",
    "        return\"\""
   ]
  },
  {
   "cell_type": "code",
   "execution_count": 156,
   "id": "4914ed75",
   "metadata": {},
   "outputs": [
    {
     "name": "stdout",
     "output_type": "stream",
     "text": [
      "what stock do you want ?fb\n"
     ]
    }
   ],
   "source": [
    "choice = input(\"what stock do you want ?\").upper()\n",
    "cooperation = [\"AAPL\",\"FB\",\"GOOG\"]\n",
    "if choice in cooperation :\n",
    "    select_stock(choice)"
   ]
  },
  {
   "cell_type": "code",
   "execution_count": 158,
   "id": "cdd0c627",
   "metadata": {},
   "outputs": [
    {
     "name": "stdout",
     "output_type": "stream",
     "text": [
      "/Users/falowogbolahan/PycharmProjects\n"
     ]
    }
   ],
   "source": [
    "cd ..\n"
   ]
  },
  {
   "cell_type": "code",
   "execution_count": 152,
   "id": "9bbe9d85",
   "metadata": {},
   "outputs": [
    {
     "name": "stdout",
     "output_type": "stream",
     "text": [
      "what stock do you want ?fb\n"
     ]
    }
   ],
   "source": [
    "#loading our dataset\n",
    "# def select_stock(choice):\n",
    "choice = input(\"what stock do you want ?\").upper()\n",
    "cooperation = [\"AAPL\",\"FB\",\"GOOG\"]\n",
    "if choice in cooperation :\n",
    "    select_stock(choice)\n",
    "# if choice in cooperation:\n",
    "#     start_date = dt.datetime(2010, 1, 1)\n",
    "#     end_date = dt.datetime.now()\n",
    "#     data = web.DataReader(choice, 'yahoo', start_date, end_date)\n",
    "    \n",
    "#     #we re-index data frame to \n",
    "#     data=data.reset_index()\n",
    "#     else:\n",
    "#         print(\"please input a valid stock\")\n",
    "    \n",
    "    "
   ]
  },
  {
   "cell_type": "code",
   "execution_count": null,
   "id": "a791f7e6",
   "metadata": {},
   "outputs": [],
   "source": []
  },
  {
   "cell_type": "code",
   "execution_count": 148,
   "id": "5c369dfe",
   "metadata": {},
   "outputs": [],
   "source": [
    "def select_stock(choice):\n",
    "    # choice = input(\"what stock do you want ?\").upper()\n",
    "    cooperation = [\"AAPL\", \"FB\",\"GOOGL\"]\n",
    "    data = None\n",
    "    choice = choice.upper()\n",
    "    if choice in cooperation:\n",
    "        start_date = dt.datetime(2010, 1, 1)\n",
    "        end_date = dt.datetime(2022, 2, 27)\n",
    "        data = web.DataReader(choice, 'yahoo', start_date, end_date)\n",
    "        data = data.reset_index()\n",
    "    if not data.empty:\n",
    "        return closing_prices(data,choice)\n",
    "    else:\n",
    "        return \"\""
   ]
  },
  {
   "cell_type": "code",
   "execution_count": 149,
   "id": "ee15fa52",
   "metadata": {},
   "outputs": [],
   "source": [
    "def closing_prices(data,choice):\n",
    "    #view closing price history of selected stock on selected end date\n",
    "    data['Close'].plot(grid=True,figsize=(8,6))\n",
    "    plt.title('Close price history')\n",
    "    plt.xlabel('Date',fontsize = 12)\n",
    "    plt.ylabel(f'Close price of {choice} in USD ($)',fontsize = 12)\n",
    "    plt.legend(loc=\"upper left\")\n",
    "\n",
    "\n",
    "    img_info = f\"./static/{choice}.png\"\n",
    "\n",
    "    img_location = f\"{choice}.png\"\n",
    "    plt.savefig(img_info,dpi=1200)\n",
    "    plt.close()\n",
    "    return img_location"
   ]
  },
  {
   "cell_type": "code",
   "execution_count": 150,
   "id": "40834206",
   "metadata": {},
   "outputs": [
    {
     "ename": "TypeError",
     "evalue": "select_stock() missing 1 required positional argument: 'choice'",
     "output_type": "error",
     "traceback": [
      "\u001b[0;31m---------------------------------------------------------------------------\u001b[0m",
      "\u001b[0;31mTypeError\u001b[0m                                 Traceback (most recent call last)",
      "Input \u001b[0;32mIn [150]\u001b[0m, in \u001b[0;36m<module>\u001b[0;34m\u001b[0m\n\u001b[0;32m----> 1\u001b[0m \u001b[43mselect_stock\u001b[49m\u001b[43m(\u001b[49m\u001b[43m)\u001b[49m\n",
      "\u001b[0;31mTypeError\u001b[0m: select_stock() missing 1 required positional argument: 'choice'"
     ]
    }
   ],
   "source": [
    "\n"
   ]
  },
  {
   "cell_type": "code",
   "execution_count": 134,
   "id": "adc5c15d",
   "metadata": {},
   "outputs": [
    {
     "name": "stdout",
     "output_type": "stream",
     "text": [
      "<class 'pandas.core.frame.DataFrame'>\n",
      "RangeIndex: 3072 entries, 0 to 3071\n",
      "Data columns (total 7 columns):\n",
      " #   Column     Non-Null Count  Dtype         \n",
      "---  ------     --------------  -----         \n",
      " 0   Date       3072 non-null   datetime64[ns]\n",
      " 1   High       3072 non-null   float64       \n",
      " 2   Low        3072 non-null   float64       \n",
      " 3   Open       3072 non-null   float64       \n",
      " 4   Close      3072 non-null   float64       \n",
      " 5   Volume     3072 non-null   float64       \n",
      " 6   Adj Close  3072 non-null   float64       \n",
      "dtypes: datetime64[ns](1), float64(6)\n",
      "memory usage: 168.1 KB\n"
     ]
    }
   ],
   "source": [
    "data.info()"
   ]
  },
  {
   "cell_type": "code",
   "execution_count": 135,
   "id": "7399995d",
   "metadata": {},
   "outputs": [
    {
     "data": {
      "text/html": [
       "<div>\n",
       "<style scoped>\n",
       "    .dataframe tbody tr th:only-of-type {\n",
       "        vertical-align: middle;\n",
       "    }\n",
       "\n",
       "    .dataframe tbody tr th {\n",
       "        vertical-align: top;\n",
       "    }\n",
       "\n",
       "    .dataframe thead th {\n",
       "        text-align: right;\n",
       "    }\n",
       "</style>\n",
       "<table border=\"1\" class=\"dataframe\">\n",
       "  <thead>\n",
       "    <tr style=\"text-align: right;\">\n",
       "      <th></th>\n",
       "      <th>Date</th>\n",
       "      <th>High</th>\n",
       "      <th>Low</th>\n",
       "      <th>Open</th>\n",
       "      <th>Close</th>\n",
       "      <th>Volume</th>\n",
       "      <th>Adj Close</th>\n",
       "    </tr>\n",
       "  </thead>\n",
       "  <tbody>\n",
       "    <tr>\n",
       "      <th>0</th>\n",
       "      <td>2010-01-04</td>\n",
       "      <td>313.579620</td>\n",
       "      <td>310.954468</td>\n",
       "      <td>312.304413</td>\n",
       "      <td>312.204773</td>\n",
       "      <td>3927065.0</td>\n",
       "      <td>312.204773</td>\n",
       "    </tr>\n",
       "    <tr>\n",
       "      <th>1</th>\n",
       "      <td>2010-01-05</td>\n",
       "      <td>312.747742</td>\n",
       "      <td>309.609497</td>\n",
       "      <td>312.418976</td>\n",
       "      <td>310.829926</td>\n",
       "      <td>6031925.0</td>\n",
       "      <td>310.829926</td>\n",
       "    </tr>\n",
       "    <tr>\n",
       "      <th>2</th>\n",
       "      <td>2010-01-06</td>\n",
       "      <td>311.761444</td>\n",
       "      <td>302.047852</td>\n",
       "      <td>311.761444</td>\n",
       "      <td>302.994293</td>\n",
       "      <td>7987226.0</td>\n",
       "      <td>302.994293</td>\n",
       "    </tr>\n",
       "    <tr>\n",
       "      <th>3</th>\n",
       "      <td>2010-01-07</td>\n",
       "      <td>303.861053</td>\n",
       "      <td>295.218445</td>\n",
       "      <td>303.562164</td>\n",
       "      <td>295.940735</td>\n",
       "      <td>12876685.0</td>\n",
       "      <td>295.940735</td>\n",
       "    </tr>\n",
       "    <tr>\n",
       "      <th>4</th>\n",
       "      <td>2010-01-08</td>\n",
       "      <td>300.498657</td>\n",
       "      <td>293.455048</td>\n",
       "      <td>294.894653</td>\n",
       "      <td>299.885956</td>\n",
       "      <td>9484016.0</td>\n",
       "      <td>299.885956</td>\n",
       "    </tr>\n",
       "  </tbody>\n",
       "</table>\n",
       "</div>"
      ],
      "text/plain": [
       "        Date        High         Low        Open       Close      Volume  \\\n",
       "0 2010-01-04  313.579620  310.954468  312.304413  312.204773   3927065.0   \n",
       "1 2010-01-05  312.747742  309.609497  312.418976  310.829926   6031925.0   \n",
       "2 2010-01-06  311.761444  302.047852  311.761444  302.994293   7987226.0   \n",
       "3 2010-01-07  303.861053  295.218445  303.562164  295.940735  12876685.0   \n",
       "4 2010-01-08  300.498657  293.455048  294.894653  299.885956   9484016.0   \n",
       "\n",
       "    Adj Close  \n",
       "0  312.204773  \n",
       "1  310.829926  \n",
       "2  302.994293  \n",
       "3  295.940735  \n",
       "4  299.885956  "
      ]
     },
     "execution_count": 135,
     "metadata": {},
     "output_type": "execute_result"
    }
   ],
   "source": [
    "#view number of rows and columsn\n",
    "# data.shape\n",
    "data.head()"
   ]
  },
  {
   "cell_type": "code",
   "execution_count": 141,
   "id": "adfc1b85",
   "metadata": {},
   "outputs": [
    {
     "data": {
      "image/png": "[encoded data removed]",
      "text/plain": [
       "<Figure size 720x432 with 1 Axes>"
      ]
     },
     "metadata": {
      "needs_background": "light"
     },
     "output_type": "display_data"
    },
    {
     "data": {
      "text/plain": [
       "<matplotlib.legend.Legend at 0x2b5019970>"
      ]
     },
     "execution_count": 141,
     "metadata": {},
     "output_type": "execute_result"
    },
    {
     "data": {
      "image/png": "[encoded data removed]",
      "text/plain": [
       "<Figure size 720x432 with 1 Axes>"
      ]
     },
     "metadata": {
      "needs_background": "light"
     },
     "output_type": "display_data"
    }
   ],
   "source": [
    "#view closing price history of selected stock on selected end date \n",
    "data['Close'].plot(grid=True,figsize=(10,6))\n",
    "plt.title('Close price history')\n",
    "plt.xlabel('Date',fontsize = 12)\n",
    "plt.ylabel('Close price USD ($)',fontsize = 12)\n",
    "plt.legend(loc=\"upper left\")\n",
    "plt.show()\n",
    "#HERE WE ADD COLUMN TO SHOW THE DIFFERENCE BETWEEN OUR OPENING AND CLOSING PRICES\n",
    "data['Diff'] = data['Close']-data['Open']\n",
    "data['Diff'].plot(grid=True,figsize=(10,6))\n",
    "plt.xlabel(\"Dates\")\n",
    "plt.ylabel(\"ggg\")\n",
    "plt.legend(loc=\"upper left\")\n",
    "# data.head()\n"
   ]
  },
  {
   "cell_type": "code",
   "execution_count": 137,
   "id": "6e36cbb9",
   "metadata": {},
   "outputs": [],
   "source": [
    "# aapl.to_csv('data/aapl_ohlc.csv')\n",
    "# df = pd.read_csv('data/aapl_ohlc.csv', header=0, index_col='Date', parse_dates=True)"
   ]
  },
  {
   "cell_type": "code",
   "execution_count": 121,
   "id": "257316ff",
   "metadata": {},
   "outputs": [
    {
     "data": {
      "text/plain": [
       "Index(['Date', 'High', 'Low', 'Open', 'Close', 'Volume', 'Adj Close', 'Diff'], dtype='object')"
      ]
     },
     "execution_count": 121,
     "metadata": {},
     "output_type": "execute_result"
    }
   ],
   "source": [
    "data.columns"
   ]
  },
  {
   "cell_type": "code",
   "execution_count": null,
   "id": "41cdf404",
   "metadata": {},
   "outputs": [],
   "source": []
  },
  {
   "cell_type": "code",
   "execution_count": null,
   "id": "471a4c22",
   "metadata": {},
   "outputs": [],
   "source": []
  }
 ],
 "metadata": {
  "kernelspec": {
   "display_name": "Python 3 (ipykernel)",
   "language": "python",
   "name": "python3"
  },
  "language_info": {
   "codemirror_mode": {
    "name": "ipython",
    "version": 3
   },
   "file_extension": ".py",
   "mimetype": "text/x-python",
   "name": "python",
   "nbconvert_exporter": "python",
   "pygments_lexer": "ipython3",
   "version": "3.9.7"
  }
 },
 "nbformat": 4,
 "nbformat_minor": 5
}
