{
 "cells": [
  {
   "cell_type": "code",
   "execution_count": 14,
   "id": "df0d3258",
   "metadata": {},
   "outputs": [],
   "source": [
    "letter = [2,4,6,7,8,8,98]"
   ]
  },
  {
   "cell_type": "code",
   "execution_count": 21,
   "id": "a22579bb",
   "metadata": {},
   "outputs": [
    {
     "name": "stdout",
     "output_type": "stream",
     "text": [
      "[(0, 2), (1, 4), (2, 6), (3, 7), (4, 8), (5, 8), (6, 98)]\n"
     ]
    }
   ],
   "source": [
    "paper = enumerate(letter)\n",
    "print(list(paper))"
   ]
  },
  {
   "cell_type": "code",
   "execution_count": 22,
   "id": "35044c2b",
   "metadata": {},
   "outputs": [],
   "source": [
    "new_figures = map(lambda x : x ** 4,letter)"
   ]
  },
  {
   "cell_type": "code",
   "execution_count": 23,
   "id": "75842526",
   "metadata": {},
   "outputs": [
    {
     "name": "stdout",
     "output_type": "stream",
     "text": [
      "[16, 256, 1296, 2401, 4096, 4096, 92236816]\n"
     ]
    }
   ],
   "source": [
    "print(list(new_figures))"
   ]
  },
  {
   "cell_type": "code",
   "execution_count": null,
   "id": "ee183fc1",
   "metadata": {},
   "outputs": [],
   "source": []
  }
 ],
 "metadata": {
  "kernelspec": {
   "display_name": "Python 3 (ipykernel)",
   "language": "python",
   "name": "python3"
  },
  "language_info": {
   "codemirror_mode": {
    "name": "ipython",
    "version": 3
   },
   "file_extension": ".py",
   "mimetype": "text/x-python",
   "name": "python",
   "nbconvert_exporter": "python",
   "pygments_lexer": "ipython3",
   "version": "3.9.7"
  }
 },
 "nbformat": 4,
 "nbformat_minor": 5
}
